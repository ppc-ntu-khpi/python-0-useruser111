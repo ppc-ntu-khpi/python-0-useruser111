{
  "cells": [
    {
      "cell_type": "markdown",
      "metadata": {
        "id": "nspjmpTrxgZS"
      },
      "source": [
        "# Ще трохи математики"
      ]
    },
    {
      "cell_type": "markdown",
      "metadata": {
        "id": "9NqHzlZ2xtID"
      },
      "source": [
        "1. Обчисліть радіус кола, знаючи його площу. Нагадаємо формулу:\n",
        "$$\n",
        "  S=\\pi*R^2 => R =\\sqrt{\\frac{S}{\\pi}}\n",
        "$$\n",
        "Для обчислення скористаємось знайомими функціями ```sqrt``` та ```pi``` з пакету ```math```.\n"
      ]
    },
    {
      "cell_type": "code",
      "execution_count": null,
      "metadata": {
        "colab": {
          "base_uri": "https://localhost:8080/"
        },
        "id": "csfYPusD0mWX",
        "outputId": "2fd0d9e4-9440-49e1-ea07-47c68f7b5a09"
      },
      "outputs": [
        {
          "name": "stdout",
          "output_type": "stream",
          "text": [
            "Введіть площу кола: 25\n",
            "Радіус дорівнює  2.821 см\n"
          ]
        }
      ],
      "source": [
        "from math import sqrt,pi\n",
        "S = float(input('Введіть площу кола: '))\n",
        "r = sqrt(S/pi)\n",
        "print ('Радіус дорівнює %6.3f см' %r)"
      ]
    },
    {
      "cell_type": "markdown",
      "metadata": {
        "id": "e7Ed3mEp11Rw"
      },
      "source": [
        "2. А тепер за зразком знайдіть в наступній комірці площу сфери та об'єм кулі. Нагадуємо формули:\n",
        "$$\n",
        "  S=4*\\pi*R^2    \n",
        "$$\n",
        "$$\n",
        "  V=\\frac{4}{3}*\\pi*R^3\n",
        "$$\n",
        "Також нагадаємо, що ступінь в Python задається так: ```**```"
      ]
    },
    {
      "cell_type": "code",
      "execution_count": 1,
      "metadata": {
        "id": "sTFMO4Xp3fgO"
      },
      "outputs": [
        {
          "name": "stdout",
          "output_type": "stream",
          "text": [
            "Площа: 1256.637061\n",
            "Обєм: 4188.790205\n"
          ]
        }
      ],
      "source": [
        "from math import pi\n",
        "r = float(input('Введіть радіс сфери: '))\n",
        "s = 4 * pi * (r ** 2)\n",
        "v = (4 / 3) * pi * (r ** 3)\n",
        "print('Площа: %f' %s)\n",
        "print('Обєм: %f' %v)"
      ]
    },
    {
      "cell_type": "markdown",
      "metadata": {
        "id": "Ki46Slel5ASd"
      },
      "source": [
        "3. А ще давайте переведемо температуру за Фаренгейтом у градуси Цельсія і навпаки. Формули тут надзвичайно прості:\n",
        "$$\n",
        "  C=(F-32)*0.5556\n",
        "$$\n",
        "$$\n",
        "  F=C*1.8+32\n",
        "$$\n",
        "Спробуйте в наступній комірці! Пам'ятайте про \"красиве\" введення і виведення даних."
      ]
    },
    {
      "cell_type": "code",
      "execution_count": 4,
      "metadata": {
        "id": "8yhfAwYm5E_z"
      },
      "outputs": [
        {
          "name": "stdout",
          "output_type": "stream",
          "text": [
            "Температура C: -12.223200\n",
            "Температура C: 9.998240\n"
          ]
        }
      ],
      "source": [
        "f = float(input('Введіть температуру F: '))\n",
        "c = (f - 32) * 0.5556\n",
        "print('Температура C: %f' %c)\n",
        "\n",
        "\n",
        "c = float(input('Введіть температуру F: '))\n",
        "f = c * 1.8 + 32\n",
        "print('Температура C: %f' %f)"
      ]
    },
    {
      "cell_type": "markdown",
      "metadata": {
        "id": "rnapogmC6dta"
      },
      "source": [
        "Ще більше простих вправ з Python - [тут](https://www.w3resource.com/python-exercises/python-basic-exercises.php)"
      ]
    }
  ],
  "metadata": {
    "colab": {
      "collapsed_sections": [],
      "name": "2. Ще трохи математики",
      "provenance": [],
      "toc_visible": true
    },
    "kernelspec": {
      "display_name": "Python 3",
      "name": "python3"
    },
    "language_info": {
      "codemirror_mode": {
        "name": "ipython",
        "version": 3
      },
      "file_extension": ".py",
      "mimetype": "text/x-python",
      "name": "python",
      "nbconvert_exporter": "python",
      "pygments_lexer": "ipython3",
      "version": "3.11.5"
    }
  },
  "nbformat": 4,
  "nbformat_minor": 0
}
